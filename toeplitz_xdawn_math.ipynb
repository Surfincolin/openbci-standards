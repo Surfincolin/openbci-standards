{
 "cells": [
  {
   "cell_type": "code",
   "execution_count": 1,
   "metadata": {},
   "outputs": [],
   "source": [
    "import numpy as np\n",
    "import math\n",
    "from scipy import linalg"
   ]
  },
  {
   "cell_type": "code",
   "execution_count": 2,
   "metadata": {},
   "outputs": [],
   "source": [
    "first_col = np.zeros(5000)\n",
    "stim = np.random.randint(0,5000,50)\n",
    "first_col[stim] = 1\n",
    "first_row = first_col[:200]"
   ]
  },
  {
   "cell_type": "code",
   "execution_count": 3,
   "metadata": {},
   "outputs": [
    {
     "data": {
      "text/plain": [
       "array([0., 0., 0., 0.])"
      ]
     },
     "execution_count": 3,
     "metadata": {},
     "output_type": "execute_result"
    }
   ],
   "source": [
    "D = linalg.toeplitz(first_row, first_col)\n",
    "# stim\n",
    "D[1,18:22]"
   ]
  },
  {
   "cell_type": "code",
   "execution_count": 4,
   "metadata": {},
   "outputs": [
    {
     "data": {
      "text/plain": [
       "array([[0., 0., 0., 0., 0.],\n",
       "       [1., 0., 0., 0., 0.],\n",
       "       [0., 1., 0., 0., 0.],\n",
       "       [0., 0., 1., 0., 0.],\n",
       "       [1., 0., 0., 1., 0.],\n",
       "       [0., 1., 0., 0., 1.]])"
      ]
     },
     "execution_count": 4,
     "metadata": {},
     "output_type": "execute_result"
    }
   ],
   "source": [
    "first_col = np.array([0,1,0,0,1,0]).astype(int)\n",
    "first_row = np.zeros(5)\n",
    "# first_row = first_col[:5]\n",
    "D = linalg.toeplitz(first_col, first_row)\n",
    "D"
   ]
  },
  {
   "cell_type": "code",
   "execution_count": 5,
   "metadata": {},
   "outputs": [
    {
     "data": {
      "text/plain": [
       "array([[2., 0., 0., 1., 0.],\n",
       "       [0., 2., 0., 0., 1.],\n",
       "       [0., 0., 1., 0., 0.],\n",
       "       [1., 0., 0., 1., 0.],\n",
       "       [0., 1., 0., 0., 1.]])"
      ]
     },
     "execution_count": 5,
     "metadata": {},
     "output_type": "execute_result"
    }
   ],
   "source": [
    "D.T @ D"
   ]
  },
  {
   "cell_type": "code",
   "execution_count": 6,
   "metadata": {},
   "outputs": [
    {
     "data": {
      "text/plain": [
       "array([[ 1.,  0.,  0., -1.,  0.],\n",
       "       [ 0.,  1.,  0.,  0., -1.],\n",
       "       [ 0.,  0.,  1.,  0.,  0.],\n",
       "       [-1.,  0.,  0.,  2.,  0.],\n",
       "       [ 0., -1.,  0.,  0.,  2.]])"
      ]
     },
     "execution_count": 6,
     "metadata": {},
     "output_type": "execute_result"
    }
   ],
   "source": [
    "linalg.pinv(D.T @ D)"
   ]
  },
  {
   "cell_type": "code",
   "execution_count": 7,
   "metadata": {},
   "outputs": [
    {
     "data": {
      "text/plain": [
       "array([[2, 5, 5],\n",
       "       [3, 2, 3],\n",
       "       [3, 3, 5],\n",
       "       [2, 3, 6],\n",
       "       [3, 2, 5],\n",
       "       [5, 3, 2]])"
      ]
     },
     "execution_count": 7,
     "metadata": {},
     "output_type": "execute_result"
    }
   ],
   "source": [
    "X = np.random.randint(2,7,(6,3))\n",
    "X"
   ]
  },
  {
   "cell_type": "code",
   "execution_count": 8,
   "metadata": {},
   "outputs": [
    {
     "data": {
      "text/plain": [
       "array([[6., 4., 8.],\n",
       "       [8., 6., 7.],\n",
       "       [2., 3., 6.],\n",
       "       [3., 2., 5.],\n",
       "       [5., 3., 2.]])"
      ]
     },
     "execution_count": 8,
     "metadata": {},
     "output_type": "execute_result"
    }
   ],
   "source": [
    "D.T @ X"
   ]
  },
  {
   "cell_type": "code",
   "execution_count": 9,
   "metadata": {},
   "outputs": [
    {
     "data": {
      "text/plain": [
       "array([[ 3.,  2.,  3.],\n",
       "       [ 3.,  3.,  5.],\n",
       "       [ 2.,  3.,  6.],\n",
       "       [ 0.,  0.,  2.],\n",
       "       [ 2.,  0., -3.]])"
      ]
     },
     "execution_count": 9,
     "metadata": {},
     "output_type": "execute_result"
    }
   ],
   "source": [
    "linalg.pinv(D.T @ D) @ (D.T @ X)"
   ]
  },
  {
   "cell_type": "code",
   "execution_count": 10,
   "metadata": {},
   "outputs": [],
   "source": [
    "first_col = np.array([0,0,1,0,0,0]).astype(int)\n",
    "first_row = np.zeros(5)\n",
    "D2 = linalg.toeplitz(first_col, first_row)"
   ]
  },
  {
   "cell_type": "code",
   "execution_count": 11,
   "metadata": {},
   "outputs": [
    {
     "data": {
      "text/plain": [
       "array([[0., 0., 0., 0., 0., 0., 0., 0., 0., 0.],\n",
       "       [1., 0., 0., 0., 0., 0., 0., 0., 0., 0.],\n",
       "       [0., 1., 0., 0., 0., 1., 0., 0., 0., 0.],\n",
       "       [0., 0., 1., 0., 0., 0., 1., 0., 0., 0.],\n",
       "       [1., 0., 0., 1., 0., 0., 0., 1., 0., 0.],\n",
       "       [0., 1., 0., 0., 1., 0., 0., 0., 1., 0.]])"
      ]
     },
     "execution_count": 11,
     "metadata": {},
     "output_type": "execute_result"
    }
   ],
   "source": [
    "DD = np.hstack([D,D2])\n",
    "DD"
   ]
  },
  {
   "cell_type": "code",
   "execution_count": 12,
   "metadata": {},
   "outputs": [
    {
     "data": {
      "text/plain": [
       "array([[6., 4., 8.],\n",
       "       [8., 6., 7.],\n",
       "       [2., 3., 6.],\n",
       "       [3., 2., 5.],\n",
       "       [5., 3., 2.],\n",
       "       [3., 3., 5.],\n",
       "       [2., 3., 6.],\n",
       "       [3., 2., 5.],\n",
       "       [5., 3., 2.],\n",
       "       [0., 0., 0.]])"
      ]
     },
     "execution_count": 12,
     "metadata": {},
     "output_type": "execute_result"
    }
   ],
   "source": [
    "DD.T @ X"
   ]
  },
  {
   "cell_type": "code",
   "execution_count": 13,
   "metadata": {},
   "outputs": [
    {
     "data": {
      "text/plain": [
       "array([[ 3. ,  2. ,  3. ],\n",
       "       [ 2.2,  1.8,  2.4],\n",
       "       [ 1. ,  1.5,  3. ],\n",
       "       [-0. , -0. ,  1. ],\n",
       "       [ 1.4,  0.6, -0.2],\n",
       "       [ 0.8,  1.2,  2.6],\n",
       "       [ 1. ,  1.5,  3. ],\n",
       "       [-0. , -0. ,  1. ],\n",
       "       [ 1.4,  0.6, -0.2],\n",
       "       [ 0. ,  0. ,  0. ]])"
      ]
     },
     "execution_count": 13,
     "metadata": {},
     "output_type": "execute_result"
    }
   ],
   "source": [
    "np.set_printoptions(suppress=True)\n",
    "PP = linalg.pinv(DD.T @ DD) @ (DD.T @ X)\n",
    "PP"
   ]
  },
  {
   "cell_type": "code",
   "execution_count": 14,
   "metadata": {},
   "outputs": [
    {
     "data": {
      "text/plain": [
       "[array([[ 3. ,  2. ,  3. ],\n",
       "        [ 2.2,  1.8,  2.4],\n",
       "        [ 1. ,  1.5,  3. ],\n",
       "        [-0. , -0. ,  1. ],\n",
       "        [ 1.4,  0.6, -0.2]]),\n",
       " array([[ 0.8,  1.2,  2.6],\n",
       "        [ 1. ,  1.5,  3. ],\n",
       "        [-0. , -0. ,  1. ],\n",
       "        [ 1.4,  0.6, -0.2],\n",
       "        [ 0. ,  0. ,  0. ]])]"
      ]
     },
     "execution_count": 14,
     "metadata": {},
     "output_type": "execute_result"
    }
   ],
   "source": [
    "PP = np.vsplit(PP, 2)\n",
    "PP"
   ]
  },
  {
   "cell_type": "code",
   "execution_count": 15,
   "metadata": {},
   "outputs": [
    {
     "data": {
      "text/plain": [
       "array([[36.8 , 26.1 , 37.2 ],\n",
       "       [26.1 , 19.25, 28.1 ],\n",
       "       [37.2 , 28.1 , 44.6 ]])"
      ]
     },
     "execution_count": 15,
     "metadata": {},
     "output_type": "execute_result"
    }
   ],
   "source": [
    "# PP[0]\n",
    "PP[0].T @ (D.T @ (D @ PP[0]))"
   ]
  },
  {
   "cell_type": "code",
   "execution_count": 16,
   "metadata": {},
   "outputs": [
    {
     "data": {
      "text/plain": [
       "array([[36.8 , 26.1 , 37.2 ],\n",
       "       [26.1 , 19.25, 28.1 ],\n",
       "       [37.2 , 28.1 , 44.6 ]])"
      ]
     },
     "execution_count": 16,
     "metadata": {},
     "output_type": "execute_result"
    }
   ],
   "source": [
    "PP[0].T @ D.T @ D @ PP[0]"
   ]
  },
  {
   "cell_type": "code",
   "execution_count": 17,
   "metadata": {},
   "outputs": [
    {
     "data": {
      "text/plain": [
       "array([[36.8 , 26.1 , 37.2 ],\n",
       "       [26.1 , 19.25, 28.1 ],\n",
       "       [37.2 , 28.1 , 44.6 ]])"
      ]
     },
     "execution_count": 17,
     "metadata": {},
     "output_type": "execute_result"
    }
   ],
   "source": [
    "a = PP[0].T @ D.T @ D\n",
    "a@PP[0]"
   ]
  },
  {
   "cell_type": "code",
   "execution_count": 18,
   "metadata": {},
   "outputs": [
    {
     "data": {
      "text/plain": [
       "array([[0. , 0. , 0. ],\n",
       "       [3. , 2. , 3. ],\n",
       "       [2.2, 1.8, 2.4],\n",
       "       [1. , 1.5, 3. ],\n",
       "       [3. , 2. , 4. ],\n",
       "       [3.6, 2.4, 2.2]])"
      ]
     },
     "execution_count": 18,
     "metadata": {},
     "output_type": "execute_result"
    }
   ],
   "source": [
    "D @ PP[0]"
   ]
  },
  {
   "cell_type": "code",
   "execution_count": 19,
   "metadata": {},
   "outputs": [
    {
     "data": {
      "text/plain": [
       "array([[0., 0., 0., 0., 0.],\n",
       "       [1., 0., 0., 0., 0.],\n",
       "       [0., 1., 0., 0., 0.],\n",
       "       [0., 0., 1., 0., 0.],\n",
       "       [1., 0., 0., 1., 0.],\n",
       "       [0., 1., 0., 0., 1.]])"
      ]
     },
     "execution_count": 19,
     "metadata": {},
     "output_type": "execute_result"
    }
   ],
   "source": [
    "D"
   ]
  },
  {
   "cell_type": "code",
   "execution_count": 20,
   "metadata": {},
   "outputs": [
    {
     "data": {
      "text/plain": [
       "array([[ 0.,  1.,  0.,  0., -0.,  0.],\n",
       "       [ 0.,  0.,  1.,  0.,  0.,  0.],\n",
       "       [ 0.,  0.,  0.,  1.,  0.,  0.],\n",
       "       [-0., -1.,  0.,  0.,  1.,  0.],\n",
       "       [ 0.,  0., -1.,  0.,  0.,  1.]])"
      ]
     },
     "execution_count": 20,
     "metadata": {},
     "output_type": "execute_result"
    }
   ],
   "source": [
    "linalg.pinv(D)"
   ]
  },
  {
   "cell_type": "code",
   "execution_count": 21,
   "metadata": {},
   "outputs": [
    {
     "data": {
      "text/plain": [
       "array([[ 0.,  1.,  0.,  0., -0.,  0.],\n",
       "       [ 0.,  0.,  1.,  0.,  0., -0.],\n",
       "       [ 0.,  0.,  0.,  1.,  0.,  0.],\n",
       "       [ 0., -1.,  0.,  0.,  1.,  0.],\n",
       "       [ 0.,  0., -1.,  0.,  0.,  1.]])"
      ]
     },
     "execution_count": 21,
     "metadata": {},
     "output_type": "execute_result"
    }
   ],
   "source": [
    "linalg.pinv(D.T@D) @ D.T"
   ]
  },
  {
   "cell_type": "code",
   "execution_count": 23,
   "metadata": {},
   "outputs": [
    {
     "data": {
      "text/plain": [
       "array([[ 1.,  0.,  0., -1., -0.],\n",
       "       [ 0.,  1.,  0.,  0., -1.],\n",
       "       [ 0.,  0.,  1.,  0., -0.],\n",
       "       [-1.,  0.,  0.,  2., -0.],\n",
       "       [ 0., -1.,  0.,  0.,  2.]])"
      ]
     },
     "execution_count": 23,
     "metadata": {},
     "output_type": "execute_result"
    }
   ],
   "source": [
    "linalg.inv(D.T @ D)"
   ]
  },
  {
   "cell_type": "code",
   "execution_count": 26,
   "metadata": {},
   "outputs": [
    {
     "data": {
      "text/plain": [
       "array([[ 0.,  1.,  0.,  0.,  0.,  0.],\n",
       "       [ 0.,  0.,  1.,  0.,  0.,  0.],\n",
       "       [ 0.,  0.,  0.,  1.,  0.,  0.],\n",
       "       [ 0., -1.,  0.,  0.,  1.,  0.],\n",
       "       [ 0.,  0., -1.,  0.,  0.,  1.]])"
      ]
     },
     "execution_count": 26,
     "metadata": {},
     "output_type": "execute_result"
    }
   ],
   "source": [
    "linalg.inv(D.T @ D) @ D.T"
   ]
  },
  {
   "cell_type": "code",
   "execution_count": 27,
   "metadata": {},
   "outputs": [
    {
     "data": {
      "text/plain": [
       "array([[ 0.,  1.,  0.,  0., -0.,  0.],\n",
       "       [ 0.,  0.,  1.,  0.,  0.,  0.],\n",
       "       [ 0.,  0.,  0.,  1.,  0.,  0.],\n",
       "       [-0., -1.,  0.,  0.,  1.,  0.],\n",
       "       [ 0.,  0., -1.,  0.,  0.,  1.]])"
      ]
     },
     "execution_count": 27,
     "metadata": {},
     "output_type": "execute_result"
    }
   ],
   "source": [
    "linalg.pinv(D)"
   ]
  },
  {
   "cell_type": "code",
   "execution_count": 75,
   "metadata": {},
   "outputs": [
    {
     "data": {
      "text/plain": [
       "array([[ 1,  2,  3],\n",
       "       [-1,  1,  1],\n",
       "       [ 1,  1,  1],\n",
       "       [ 1,  1,  1]])"
      ]
     },
     "execution_count": 75,
     "metadata": {},
     "output_type": "execute_result"
    }
   ],
   "source": [
    "A = np.array([[1,2,3],[-1,1,1],[1,1,1],[1,1,1]])\n",
    "A"
   ]
  },
  {
   "cell_type": "code",
   "execution_count": 83,
   "metadata": {},
   "outputs": [
    {
     "data": {
      "text/plain": [
       "array([[ 1.        ,  1.25      ,  0.42105263],\n",
       "       [-1.        ,  1.75      , -0.21052632],\n",
       "       [ 1.        ,  0.25      , -0.31578947],\n",
       "       [ 1.        ,  0.25      , -0.31578947]])"
      ]
     },
     "execution_count": 83,
     "metadata": {},
     "output_type": "execute_result"
    }
   ],
   "source": [
    "# scipy.linalg.orth() doesn't actually seem\n",
    "# to return the orthonormal set.\n",
    "# Q = linalg.orth(A)\n",
    "\n",
    "# home made orthonormal set!\n",
    "def orthonormal(M):\n",
    "    X = [M[:,0]]\n",
    "    for i in range(1,M.shape[1]):\n",
    "        col = M[:,i]\n",
    "        x_i = col.copy()\n",
    "        proj = []\n",
    "        for j in range(i):\n",
    "            x_j = X[j]\n",
    "            x_i = x_i - (np.dot(col,x_j)/np.dot(x_j,x_j)) * x_j\n",
    "            \n",
    "        X.append(x_i)\n",
    "        \n",
    "    X = np.array(X).T\n",
    "    return X\n",
    "\n",
    "Q = orthonormal(A)\n",
    "Q"
   ]
  },
  {
   "cell_type": "code",
   "execution_count": 84,
   "metadata": {},
   "outputs": [
    {
     "data": {
      "text/plain": [
       "array([[ 4.        ,  3.        ,  4.        ],\n",
       "       [ 0.        ,  4.75      ,  6.        ],\n",
       "       [-0.        ,  0.        ,  0.42105263]])"
      ]
     },
     "execution_count": 84,
     "metadata": {},
     "output_type": "execute_result"
    }
   ],
   "source": [
    "R = Q.T @ A\n",
    "R"
   ]
  },
  {
   "cell_type": "code",
   "execution_count": 86,
   "metadata": {},
   "outputs": [
    {
     "data": {
      "text/plain": [
       "array([[ 1.        ,  2.234375  ,  2.91932133],\n",
       "       [-1.        ,  1.328125  ,  1.60283934],\n",
       "       [ 1.        ,  1.046875  ,  1.341759  ],\n",
       "       [ 1.        ,  1.046875  ,  1.341759  ]])"
      ]
     },
     "execution_count": 86,
     "metadata": {},
     "output_type": "execute_result"
    }
   ],
   "source": [
    "(Q @ R)/4"
   ]
  },
  {
   "cell_type": "code",
   "execution_count": 79,
   "metadata": {},
   "outputs": [
    {
     "name": "stdout",
     "output_type": "stream",
     "text": [
      "[[-0.5        -0.57353933  0.64888568]\n",
      " [ 0.5        -0.80295507 -0.32444284]\n",
      " [-0.5        -0.11470787 -0.48666426]\n",
      " [-0.5        -0.11470787 -0.48666426]]\n",
      "[[-2.         -1.5        -2.        ]\n",
      " [ 0.         -2.17944947 -2.75298881]\n",
      " [ 0.          0.          0.64888568]]\n"
     ]
    }
   ],
   "source": [
    "Q, R = linalg.qr(A, mode='economic')\n",
    "print(Q)\n",
    "print(R)"
   ]
  },
  {
   "cell_type": "code",
   "execution_count": 80,
   "metadata": {},
   "outputs": [
    {
     "data": {
      "text/plain": [
       "array([[ 1.,  2.,  3.],\n",
       "       [-1.,  1.,  1.],\n",
       "       [ 1.,  1.,  1.],\n",
       "       [ 1.,  1.,  1.]])"
      ]
     },
     "execution_count": 80,
     "metadata": {},
     "output_type": "execute_result"
    }
   ],
   "source": [
    "Q @ R"
   ]
  },
  {
   "cell_type": "code",
   "execution_count": 47,
   "metadata": {},
   "outputs": [
    {
     "name": "stdout",
     "output_type": "stream",
     "text": [
      "[[1. 2. 3.]\n",
      " [2. 2. 2.]\n",
      " [1. 1. 1.]]\n",
      "[2.44948974 3.         3.74165739]\n",
      "[[0.40824829 0.66666667 0.80178373]\n",
      " [0.81649658 0.66666667 0.53452248]\n",
      " [0.40824829 0.33333333 0.26726124]]\n"
     ]
    }
   ],
   "source": [
    "vecs = np.array([[1,2,3],[2,2,2],[1,1,1]]).astype(float)\n",
    "print(vecs)\n",
    "norm = np.apply_along_axis(np.linalg.norm, 0, vecs)\n",
    "print(norm)\n",
    "vecs /= norm\n",
    "print(vecs)"
   ]
  },
  {
   "cell_type": "code",
   "execution_count": 52,
   "metadata": {},
   "outputs": [
    {
     "name": "stdout",
     "output_type": "stream",
     "text": [
      "0\n"
     ]
    }
   ],
   "source": [
    "for i in range(1):\n",
    "    print(i)"
   ]
  },
  {
   "cell_type": "code",
   "execution_count": null,
   "metadata": {},
   "outputs": [],
   "source": []
  }
 ],
 "metadata": {
  "kernelspec": {
   "display_name": "Python 3",
   "language": "python",
   "name": "python3"
  },
  "language_info": {
   "codemirror_mode": {
    "name": "ipython",
    "version": 3
   },
   "file_extension": ".py",
   "mimetype": "text/x-python",
   "name": "python",
   "nbconvert_exporter": "python",
   "pygments_lexer": "ipython3",
   "version": "3.8.5"
  }
 },
 "nbformat": 4,
 "nbformat_minor": 4
}
