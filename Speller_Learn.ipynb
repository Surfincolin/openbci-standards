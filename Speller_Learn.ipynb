{
 "cells": [
  {
   "cell_type": "code",
   "execution_count": 1,
   "metadata": {},
   "outputs": [],
   "source": [
    "import pyxdf\n",
    "import matplotlib.pyplot as plt\n",
    "import numpy as np\n",
    "import math\n",
    "\n",
    "from scipy import signal\n",
    "\n",
    "from sklearn.discriminant_analysis import LinearDiscriminantAnalysis\n",
    "from sklearn.model_selection import train_test_split\n",
    "from sklearn.model_selection import cross_val_score\n",
    "\n",
    "dr = '/Users/colinwageman/Desktop/DESKTOP/School/Cogs199/Recordings/Speller/'\n",
    "file_1 = 'run_03.xdf'\n",
    "file_2 = 'run_04.xdf'\n",
    "\n",
    "# file 'run_03' contains data for spelling 'QUICK'\n",
    "# file 'run_04' contains data for spelling 'P3EEG'"
   ]
  },
  {
   "cell_type": "code",
   "execution_count": 2,
   "metadata": {},
   "outputs": [],
   "source": [
    "def speller_file_to_dict(data):\n",
    "    run = {\n",
    "        'data': [],\n",
    "        'time_stamps': [],\n",
    "        'aux': [],\n",
    "        'aux_time_stamps': [],\n",
    "        'markers': [],\n",
    "        'marker_time_stamps': [],\n",
    "        'sample_rate': {},\n",
    "    }\n",
    "    for stream in data:\n",
    "        if stream['info']['name'][0] == 'eeg_data':\n",
    "            run['data'] = stream['time_series']\n",
    "            run['time_stamps'] = stream['time_stamps']\n",
    "            run['sample_rate']['eeg'] = float(stream['info']['nominal_srate'][0])\n",
    "        elif stream['info']['name'][0] == 'aux_data':\n",
    "            run['aux'] = stream['time_series']\n",
    "            run['aux_time_stamps'] = stream['time_stamps']\n",
    "            run['sample_rate']['aux'] = float(stream['info']['nominal_srate'][0])\n",
    "        elif stream['info']['name'][0] == 'P300_Speller_Markers':\n",
    "            run['markers'] = stream['time_series']\n",
    "            run['marker_time_stamps'] = stream['time_stamps']\n",
    "        else:\n",
    "            print('Warning unmatched stream name')\n",
    "            \n",
    "    return run\n",
    "\n",
    "data = {\n",
    "    'run': [],\n",
    "}\n",
    "\n",
    "for file_nm in [file_1, file_2]:\n",
    "    imported_data, _ = pyxdf.load_xdf(dr+file_nm)\n",
    "    run = speller_file_to_dict(imported_data)\n",
    "    data['run'].append(run)\n",
    "    \n",
    "# print(data)"
   ]
  },
  {
   "cell_type": "code",
   "execution_count": 3,
   "metadata": {
    "scrolled": true
   },
   "outputs": [
    {
     "data": {
      "image/png": "[encoded data removed]",
      "text/plain": [
       "<Figure size 432x288 with 1 Axes>"
      ]
     },
     "metadata": {
      "needs_background": "light"
     },
     "output_type": "display_data"
    }
   ],
   "source": [
    "# re-ref test\n",
    "ear_lobe = -(np.sum(data['run'][1]['data'], axis=1))/8\n",
    "ref = data['run'][1]['data'][:,0] + ear_lobe\n",
    "pz_before = data['run'][1]['data'][:,3]\n",
    "pz_then = pz_before + ear_lobe\n",
    "pz_after = pz_then - ref\n",
    "pz_reref = pz_before - data['run'][1]['data'][:,0]\n",
    "for_plot = np.array([pz_after, pz_reref]).T\n",
    "_ = plt.plot(data['run'][1]['time_stamps'],  for_plot)\n",
    "\n",
    "# re-ref HARD:\n",
    "# extract online reference, add to channel, add to new ref, subtract new ref from channel\n",
    "# re-ref EASY:\n",
    "# subtract new ref channel from channels\n",
    "# in the plot above/below, the two methods are compared and the same result is returned"
   ]
  },
  {
   "cell_type": "code",
   "execution_count": 4,
   "metadata": {},
   "outputs": [],
   "source": [
    "def plot_time_series(X, Y, labels, xlabel=None, ylabel=None, title=None, fig=None, ax=None):\n",
    "    if fig is None and ax is None:\n",
    "        fig, ax = plt.subplots(figsize = (10, 3), dpi = 90)\n",
    "\n",
    "    for i in range(len(Y.T)):\n",
    "        y = Y[:,i]\n",
    "        ax.plot(X, y, label=labels[i])\n",
    "        \n",
    "    xlabel = xlabel if xlabel is not None else 'Time'\n",
    "    ylabel = ylabel if ylabel is not None else 'Amplitude'\n",
    "    title = title if title is not None else 'Time Series'\n",
    "    ax.set_xlabel(xlabel)\n",
    "    ax.set_ylabel(ylabel)\n",
    "    ax.set_title(title)\n",
    "    ax.grid(True)\n",
    "    _ = ax.legend()\n",
    "    \n",
    "    return fig, ax\n",
    "\n",
    "def add_markers_to_plot(markers, time_stamps, fig, ax):\n",
    "    for timestamp, marker in zip(time_stamps, markers):\n",
    "#             if (marker[0] == '1'):\n",
    "            if '[' in marker[0]:\n",
    "                ax.axvline(x=timestamp, color='C1')"
   ]
  },
  {
   "cell_type": "code",
   "execution_count": 5,
   "metadata": {},
   "outputs": [],
   "source": [
    "# =====================\n",
    "# Re Reference all data\n",
    "# =====================\n",
    "def re_reference(session_data, new_ref_ch_idx):\n",
    "    # returns data with the new reference channel removed... because its zeros\n",
    "    new_ref = session_data[:,new_ref_ch_idx]\n",
    "    re_referenced = session_data - new_ref[:,None]\n",
    "    re_referenced = np.delete(re_referenced, new_ref_ch_idx, axis=1)\n",
    "    \n",
    "    return re_referenced\n",
    "\n",
    "# =====================\n",
    "# Epochs and windowing\n",
    "# =====================\n",
    "def ms_to_samples(duration, rate=250):\n",
    "    return int((duration/1000.0) * rate)\n",
    "\n",
    "def get_samples_for_t_range(time_series, time_stamps, t_range, inclusive=False):\n",
    "    # great for grabbing a window\n",
    "    if inclusive:\n",
    "        low_filt = time_stamps >= t_range[0]\n",
    "    else:\n",
    "        low_filt = time_stamps > t_range[0]\n",
    "        \n",
    "    high_filt = time_stamps < t_range[1]\n",
    "    index_range = low_filt == high_filt\n",
    "    data_range = time_series[index_range]\n",
    "    ts_range = time_stamps[index_range]\n",
    "    return data_range, ts_range\n",
    "\n",
    "def get_epoch(data, data_times, stim_time, pre_stim_ms, post_stim_ms, sample_rate):\n",
    "    # great for grabbing around a stimulus event time.\n",
    "    \n",
    "    # TODO: is there a faster way?\n",
    "    i = (np.abs(data_times - stim_time)).argmin()\n",
    "    start = i - ms_to_samples(pre_stim_ms, sample_rate)\n",
    "    stop = i + ms_to_samples(post_stim_ms, sample_rate) + 1\n",
    "    epoch = data[start:stop]\n",
    "    \n",
    "    return epoch\n",
    "\n",
    "\n",
    "# ==========\n",
    "# Epoch Prep\n",
    "# ==========\n",
    "def dc_offset(epoch_data, sample_rate):\n",
    "    # epoch_data should be 2D, (samples, channels)\n",
    "    offset = np.mean(epoch_data, 0)\n",
    "\n",
    "    return epoch_data - offset\n",
    "\n",
    "\n",
    "def filter_eeg(epoch_data, sample_rate, f_range):\n",
    "    # epoch_data should be 2D, (samples, channels)\n",
    "    nyq = 0.5 * sample_rate\n",
    "    low_limit = f_range[0] / nyq\n",
    "    high_limit = f_range[1] / nyq\n",
    "    \n",
    "    sos = signal.butter(2, [low_limit, high_limit], btype='bandpass', output='sos')\n",
    "    sig_filt = signal.sosfiltfilt(sos, epoch_data, axis=0)    \n",
    "    \n",
    "    return np.array(sig_filt)\n",
    "\n",
    "def baseline_center(epoch_data, baseline_duration_ms, sample_rate):\n",
    "    # epoch_data should be 2D, (samples, channels)\n",
    "    baseline_samples = ms_to_samples(baseline_duration_ms, sample_rate)\n",
    "    pre_stimulus = epoch_data[:baseline_samples]\n",
    "    baseline = np.mean(pre_stimulus, 0)\n",
    "    \n",
    "    return epoch_data - baseline\n",
    "\n",
    "\n",
    "# ================\n",
    "# Speller Specific\n",
    "# ================\n",
    "ltr_key = ['ABCDEF',\n",
    "           'GHIJKL',\n",
    "           'MNOPQR',\n",
    "           'STUVWX',\n",
    "           'YZ1234',\n",
    "           '56789_']\n",
    "\n",
    "answer_key = {\n",
    "    'Q': [3, 11],\n",
    "    'U': [4, 9],\n",
    "    'I': [2, 9],\n",
    "    'C': [1, 9],\n",
    "    'K': [2, 11],\n",
    "    'P': [3, 10],\n",
    "    '3': [5, 11],\n",
    "    'E': [1, 11],\n",
    "    'G': [2, 7],    \n",
    "}\n",
    "\n",
    "# rows -> 0-5; cols -> 6-11\n",
    "def get_letter(row, col):\n",
    "    col = col - 6\n",
    "    return ltr_key[row][col]\n",
    "\n",
    "def predict_run_output(clf, run, channel):\n",
    "#     {'target': 'P', 'trials': [{'label': 4,\n",
    "    target = run['target']\n",
    "    row_match = []\n",
    "    col_match = []\n",
    "    confs = np.zeros(shape = (12,1))\n",
    "    char_mrks = []\n",
    "    char_conf = []\n",
    "    for trial in run['trials']:\n",
    "        lbl = trial['label']\n",
    "        data = np.array([trial['data'][:,channel]])\n",
    "#         print('data:', data.shape)\n",
    "        prediction = clf.predict(data)\n",
    "        conf = clf.decision_function(data)\n",
    "#         print(prediction[0], lbl)\n",
    "        if prediction[0] == 1:\n",
    "            if lbl < 6:\n",
    "                row_match.append(lbl)\n",
    "            else:\n",
    "                col_match.append(lbl)\n",
    "                \n",
    "    \n",
    "    print(row_match, col_match)\n",
    "    if not row_match or not col_match:\n",
    "        print('Not notable events')\n",
    "        return 'no match'\n",
    "    \n",
    "    row_sel = max(row_match, key=row_match.count)\n",
    "    col_sel = max(col_match, key=col_match.count)\n",
    "    \n",
    "    return get_letter(row_sel, col_sel)\n",
    "\n",
    "def train_clf(clf, epochs, stim_labels, channel):\n",
    "    ep_shp = epochs.shape\n",
    "    st_shp = stim_labels.shape\n",
    "    runs_X = epochs.reshape\n",
    "    runs_y = []\n",
    "    for run in all_runs:\n",
    "        target = run['target']\n",
    "        current_key = answer_key[target]\n",
    "        for trial in run['trials']:\n",
    "            x = trial['data'][:, channel]\n",
    "            runs_X.append(x)\n",
    "            lbl = trial['label']\n",
    "            if lbl in current_key:\n",
    "                runs_y.append(1)\n",
    "            else:\n",
    "                runs_y.append(0)\n",
    "                \n",
    "    runs_X = np.array(runs_X)\n",
    "    runs_y = np.array(runs_y)\n",
    "#     print('runs_X:', runs_X.shape)\n",
    "    clf = clf.fit(runs_X, runs_y)\n",
    "\n",
    "    \n",
    "    return clf\n",
    "\n",
    "def test_LDA_prediction(target_ltrs, stim_labels, epochs, channel):\n",
    "    # r2_target_ltr, r2_stim_markers, epochs\n",
    "#     for run in runs:\n",
    "    for i, target_ltr in enumerate(target_ltrs):\n",
    "        epochs_copy = epochs.copy()\n",
    "        stim_labels_copy = stim_labels.copy()\n",
    "        del epochs_copy[i]\n",
    "        del stim_labels_copy[i]\n",
    "        \n",
    "        LDA_clf = LinearDiscriminantAnalysis(solver='lsqr', shrinkage='auto')\n",
    "        LDA_clf = train_clf(LDA_clf, epochs_copy, stim_labels_copy, channel)\n",
    "        result = predict_run_output(LDA_clf, test_run, pz)\n",
    "        print(result == test_run['target'])\n",
    "        print(result, test_run['target'])"
   ]
  },
  {
   "cell_type": "code",
   "execution_count": 14,
   "metadata": {},
   "outputs": [],
   "source": [
    "def prepare_epochs(epochs, sample_rate):\n",
    "    # epochs should be 3D, (event, samples, channels)\n",
    "    \n",
    "    # frequency range for bandpass filter, in Hz\n",
    "    LOWCUT = 0.1\n",
    "    HIGHCUT = 15.0\n",
    "    freq_range = [LOWCUT,HIGHCUT]\n",
    "    \n",
    "    # baseline duration, in ms\n",
    "    baseline_duration = 100\n",
    "    \n",
    "    prepped = []\n",
    "    for epoch in epochs:\n",
    "        temp_data = dc_offset(epoch, sample_rate)\n",
    "        temp_data = filter_eeg(temp_data, sample_rate, freq_range)\n",
    "        temp_data = baseline_center(temp_data, baseline_duration, sample_rate)\n",
    "        prepped.append(temp_data)\n",
    "        \n",
    "    return np.array(prepped)"
   ]
  },
  {
   "cell_type": "code",
   "execution_count": 7,
   "metadata": {},
   "outputs": [
    {
     "name": "stdout",
     "output_type": "stream",
     "text": [
      "['FCz', 'Fz', 'Cz', 'Pz', 'Oz', 'CPz', 'Fp1']\n"
     ]
    }
   ],
   "source": [
    "channels = ['ref', 'FCz', 'Fz', 'Cz', 'Pz', 'Oz', 'CPz', 'Fp1']\n",
    "aux_chs = ['aux ch_1', 'aux ch_2', 'aux ch_3']\n",
    "\n",
    "# assigning data... a bit redundant but the hope is to help make the pipelining easier\n",
    "run_1 = data['run'][0]\n",
    "run_2 = data['run'][1]\n",
    "\n",
    "r1_eeg = run_1['data']\n",
    "r1_eeg_ts = run_1['time_stamps']\n",
    "r1_aux = run_1['aux']\n",
    "r1_aux_ts = run_1['aux_time_stamps']\n",
    "r1_markers = run_1['markers']\n",
    "r1_markers_ts = run_1['marker_time_stamps']\n",
    "\n",
    "r2_eeg = run_2['data']\n",
    "r2_eeg_ts = run_2['time_stamps']\n",
    "r2_aux = run_2['aux']\n",
    "r2_aux_ts = run_2['aux_time_stamps']\n",
    "r2_markers = run_2['markers']\n",
    "r2_markers_ts = run_2['marker_time_stamps']\n",
    "\n",
    "new_ref_ch_idx = 0\n",
    "r1_eeg = re_reference(r1_eeg, new_ref_ch_idx)\n",
    "r2_eeg = re_reference(r2_eeg, new_ref_ch_idx)\n",
    "del channels[new_ref_ch_idx]\n",
    "\n",
    "print(channels)\n",
    "pz = channels.index('Pz')"
   ]
  },
  {
   "cell_type": "markdown",
   "metadata": {},
   "source": [
    "### Scale Photosensor\n",
    "During the first run the screen brightness wasn't as it's brightest. Here I scale it up so as to use the same threshold for each."
   ]
  },
  {
   "cell_type": "code",
   "execution_count": 8,
   "metadata": {},
   "outputs": [],
   "source": [
    "max_run1 = max(r1_aux[:,1])\n",
    "max_run2 = max(r2_aux[:,1])\n",
    "scaler = max_run2/max_run1\n",
    "r1_aux[:,1] = r1_aux[:,1] * scaler"
   ]
  },
  {
   "cell_type": "code",
   "execution_count": 9,
   "metadata": {},
   "outputs": [
    {
     "data": {
      "image/png": "[encoded data removed]",
      "text/plain": [
       "<Figure size 900x270 with 1 Axes>"
      ]
     },
     "metadata": {
      "needs_background": "light"
     },
     "output_type": "display_data"
    }
   ],
   "source": [
    "fig, ax = plot_time_series(\n",
    "    X = r1_aux_ts,\n",
    "    Y = r1_aux[:,1:2],\n",
    "    labels = aux_chs[1:2],\n",
    "    xlabel='Time (sec)',\n",
    "    ylabel=r'Amplitude ($\\mu$V)',\n",
    "    title='Run 1 Photosensor'\n",
    ")\n",
    "add_markers_to_plot(r1_markers, r1_markers_ts, fig, ax)"
   ]
  },
  {
   "cell_type": "code",
   "execution_count": 10,
   "metadata": {},
   "outputs": [
    {
     "data": {
      "image/png": "[encoded data removed]",
      "text/plain": [
       "<Figure size 900x270 with 1 Axes>"
      ]
     },
     "metadata": {
      "needs_background": "light"
     },
     "output_type": "display_data"
    }
   ],
   "source": [
    "fig, ax = plot_time_series(\n",
    "    X = r2_aux_ts,\n",
    "    Y = r2_aux[:,1:2],\n",
    "    labels = aux_chs[1:2],\n",
    "    xlabel='Time (sec)',\n",
    "    ylabel=r'Amplitude ($\\mu$V)',\n",
    "    title='Run 2 Photosensor'\n",
    ")\n",
    "add_markers_to_plot(r2_markers, r2_markers_ts, fig, ax)"
   ]
  },
  {
   "cell_type": "code",
   "execution_count": 11,
   "metadata": {},
   "outputs": [
    {
     "data": {
      "text/plain": [
       "array([120, 120])"
      ]
     },
     "execution_count": 11,
     "metadata": {},
     "output_type": "execute_result"
    }
   ],
   "source": [
    "t  = np.array([2,3,120,150,50,2,3,120,122,2,1])\n",
    "r = (t > 70) + 0\n",
    "f = (r[1:] > r[:-1])\n",
    "f = np.insert(f, 0, False)\n",
    "# print(t.shape, f.shape)\n",
    "# print(f)\n",
    "t[f]"
   ]
  },
  {
   "cell_type": "code",
   "execution_count": 12,
   "metadata": {},
   "outputs": [],
   "source": [
    "# clean and prep aux channel 0010010\n",
    "# get associated markers and time stamps\n",
    "# get trials of markers and time stamps\n",
    "def get_ts_for_on_rise_threshold(data, data_ts, threshold):\n",
    "    thr = (data > threshold) + 0\n",
    "    rise = thr[1:] > thr[:-1]\n",
    "    rise = np.insert(rise, 0, False) # accounts for lost position above\n",
    "    return data_ts[rise]\n",
    "\n",
    "PHOTO_SENSOR_THRESHOLD = 70 # this is based on a visual plot.\n",
    "r1_photosensor_onsets = get_ts_for_on_rise_threshold(r1_aux[:,1], r1_aux_ts, PHOTO_SENSOR_THRESHOLD)\n",
    "r2_photosensor_onsets = get_ts_for_on_rise_threshold(r2_aux[:,1], r2_aux_ts, PHOTO_SENSOR_THRESHOLD)\n",
    "\n",
    "# We happen to know there are 600 stimulus onsets for these trials.\n",
    "# 5 letters * 10 runs * 12 stimuli/rows_columns = 600\n",
    "# TODO: automate this!\n",
    "# There are 2 test sensor blinks that we can get rid of and there is a\n",
    "# graphical blink at the very beginning of run 2 that needs to be removed.\n",
    "r1_photosensor_onsets = r1_photosensor_onsets[2:]\n",
    "r2_photosensor_onsets = r2_photosensor_onsets[3:]\n",
    "\n",
    "def divide_markers(markers):\n",
    "    # rc = row and column\n",
    "    marker_collection = []\n",
    "    target_collection = []\n",
    "    y_collection = []\n",
    "    for marker_arr in markers:\n",
    "        marker = marker_arr[0]\n",
    "        if '[' in marker:\n",
    "            lbl = marker.split('[')[1].split(']')[0]\n",
    "            target_collection.append(lbl)\n",
    "            marker_collection.append([])\n",
    "            y_collection.append([])\n",
    "        elif marker.isnumeric():\n",
    "            marker = int(marker)\n",
    "            marker_collection[-1].append(marker)\n",
    "            key = answer_key[target_collection[-1]]\n",
    "            if marker in key:\n",
    "                y_collection[-1].append(1)\n",
    "            else:\n",
    "                y_collection[-1].append(0)\n",
    "                \n",
    "    \n",
    "    return target_collection, np.array(marker_collection), np.array(y_collection)\n",
    "\n",
    "r1_target_ltr, r1_stim_markers, r1_y = divide_markers(r1_markers)\n",
    "r2_target_ltr, r2_stim_markers, r2_y = divide_markers(r2_markers)"
   ]
  },
  {
   "cell_type": "code",
   "execution_count": 15,
   "metadata": {},
   "outputs": [],
   "source": [
    "# Epoch durations in ms\n",
    "PRE_STIM = 100\n",
    "POST_STIM = 800\n",
    "\n",
    "SAMPLE_RATE = 250.0 # Hz\n",
    "\n",
    "# Make Epochs\n",
    "r1_epochs = []\n",
    "for time in r1_photosensor_onsets:\n",
    "    # get epoch based on time stamp\n",
    "    epoch = get_epoch(r1_eeg, r1_eeg_ts, time, PRE_STIM, POST_STIM, SAMPLE_RATE)\n",
    "    r1_epochs.append(epoch)\n",
    "    \n",
    "r2_epochs = []\n",
    "for time in r2_photosensor_onsets:\n",
    "    # get epoch based on time stamp\n",
    "    epoch = get_epoch(r2_eeg, r2_eeg_ts, time, PRE_STIM, POST_STIM, SAMPLE_RATE)\n",
    "    r2_epochs.append(epoch)\n",
    "    \n",
    "\n",
    "# Prep Epochs\n",
    "r1_epochs = prepare_epochs(r1_epochs, SAMPLE_RATE)\n",
    "r2_epochs = prepare_epochs(r2_epochs, SAMPLE_RATE)"
   ]
  },
  {
   "cell_type": "code",
   "execution_count": 23,
   "metadata": {},
   "outputs": [
    {
     "data": {
      "image/png": "[encoded data removed]",
      "text/plain": [
       "<Figure size 900x450 with 1 Axes>"
      ]
     },
     "metadata": {
      "needs_background": "light"
     },
     "output_type": "display_data"
    }
   ],
   "source": [
    "y = r2_y.flatten()\n",
    "target_epochs = r2_epochs[y == 1]\n",
    "non_target_epochs = r2_epochs[y == 0]\n",
    "\n",
    "x_for_plot = [(i*(1000/SAMPLE_RATE))-PRE_STIM for i in range(r2_epochs.shape[1])]\n",
    "\n",
    "# average over epochs\n",
    "Pz_target_epoch_avg = np.mean(target_epochs[:,:,pz], axis=0)\n",
    "Pz_non_target_epoch_avg = np.mean(non_target_epochs[:,:,pz], axis=0)\n",
    "\n",
    "fig, ax = plt.subplots(figsize = (10, 5), dpi = 90)\n",
    "ax.axvspan(300, 500, color='orange', alpha=0.1)\n",
    "\n",
    "ax.plot(x_for_plot, Pz_target_epoch_avg, label=f'{channels[pz]} Target avg.')\n",
    "ax.plot(x_for_plot, Pz_non_target_epoch_avg, label=f'{channels[pz]} Non-Target avg.')\n",
    "# ax.plot(x_for_plot, odd_stim_ps_avg*0.05, label='photosensor Target')\n",
    "# ax.plot(x_for_plot, std_stim_ps_avg*0.05, label='photosensor Non-Target')\n",
    "\n",
    "ax.set_xlabel('Time (ms)')\n",
    "ax.set_ylabel(r'Amplitude ($\\mu$V)')\n",
    "ax.set_title(f'{channels[pz]} Average')\n",
    "ax.grid(True)\n",
    "_ = ax.legend()"
   ]
  },
  {
   "cell_type": "code",
   "execution_count": 27,
   "metadata": {},
   "outputs": [
    {
     "name": "stdout",
     "output_type": "stream",
     "text": [
      "[['P3EEG'], ['[P]3EEG'], ['4'], ['6']]\n",
      "[2400.80030268 2409.50471681 2415.57397392 2415.85420843]\n",
      "[2416.5967905 2416.8807906]\n"
     ]
    }
   ],
   "source": [
    "# notes: markers ahead of photosensor. No photosensor for '[P]3EEG'\n",
    "# first aux blink is red flash = trash\n",
    "# calibration blinks are 1s apart, followed by ~12s\n",
    "print(r2_markers[:4])\n",
    "print(r2_markers_ts[:4])\n",
    "print(r2_photosensor_onsets[:2])"
   ]
  },
  {
   "cell_type": "code",
   "execution_count": 33,
   "metadata": {},
   "outputs": [
    {
     "data": {
      "text/plain": [
       "(600, 226)"
      ]
     },
     "execution_count": 33,
     "metadata": {},
     "output_type": "execute_result"
    }
   ],
   "source": [
    "# print(target_epochs.shape) # 100\n",
    "# print(non_target_epochs.shape) # 500\n",
    "\n",
    "X = r2_epochs\n",
    "Y = r2_y.flatten()\n",
    "\n",
    "X_Pz = X[:,:,pz]\n",
    "X_Pz.shape"
   ]
  },
  {
   "cell_type": "code",
   "execution_count": 35,
   "metadata": {},
   "outputs": [
    {
     "name": "stdout",
     "output_type": "stream",
     "text": [
      "accuracy: 0.8166666666666667\n"
     ]
    }
   ],
   "source": [
    "X_train, X_test, y_train, y_test = train_test_split(X_Pz, Y, test_size=0.5, random_state=32)\n",
    "LDA_clf = LinearDiscriminantAnalysis(solver='lsqr', shrinkage='auto').fit(X_train, y_train)\n",
    "print('accuracy:', LDA_clf.score(X_test, y_test))"
   ]
  },
  {
   "cell_type": "code",
   "execution_count": 36,
   "metadata": {},
   "outputs": [
    {
     "data": {
      "text/plain": [
       "array([0.83333333, 0.825     , 0.81666667, 0.79166667, 0.81666667])"
      ]
     },
     "execution_count": 36,
     "metadata": {},
     "output_type": "execute_result"
    }
   ],
   "source": [
    "LDA_clf = LinearDiscriminantAnalysis(solver='lsqr', shrinkage='auto')\n",
    "scores = cross_val_score(LDA_clf, X_Pz, Y, cv = 5)\n",
    "scores"
   ]
  },
  {
   "cell_type": "markdown",
   "metadata": {},
   "source": [
    "## Online Simulation\n",
    "Using the first letter runs to train the LDA classifier, then test on the last letter. This can be randomized and performed for each letter.\n",
    "Probably just using one electrode...Pz"
   ]
  },
  {
   "cell_type": "code",
   "execution_count": 103,
   "metadata": {},
   "outputs": [],
   "source": [
    "def predict_run_output(clf, run, channel):\n",
    "#     {'target': 'P', 'trials': [{'label': 4,\n",
    "    target = run['target']\n",
    "    row_match = []\n",
    "    col_match = []\n",
    "    confs = np.zeros(shape = (12,1))\n",
    "    char_mrks = []\n",
    "    char_conf = []\n",
    "    for trial in run['trials']:\n",
    "        lbl = trial['label']\n",
    "        data = np.array([trial['data'][:,channel]])\n",
    "#         print('data:', data.shape)\n",
    "        prediction = clf.predict(data)\n",
    "        conf = clf.decision_function(data)\n",
    "#         print(prediction[0], lbl)\n",
    "        if prediction[0] == 1:\n",
    "            if lbl < 6:\n",
    "                row_match.append(lbl)\n",
    "            else:\n",
    "                col_match.append(lbl)\n",
    "                \n",
    "    \n",
    "    print(row_match, col_match)\n",
    "    if not row_match or not col_match:\n",
    "        print('Not notable events')\n",
    "        return 'no match'\n",
    "    \n",
    "    row_sel = max(row_match, key=row_match.count)\n",
    "    col_sel = max(col_match, key=col_match.count)\n",
    "    \n",
    "    return get_letter(row_sel, col_sel)\n",
    "\n",
    "def train_clf(clf, X, y):\n",
    "    clf = clf.fit(X, y)\n",
    "    \n",
    "    return clf\n",
    "\n",
    "def test_LDA_prediction(target_ltrs, stim_labels, epochs, y, channel):\n",
    "    for i, target_ltr in enumerate(target_ltrs):\n",
    "        test_epoch = epochs[i][:,:,channel]\n",
    "        test_stim_labels = stim_labels[i]\n",
    "        train_epochs = np.delete(epochs, i, 0)\n",
    "        train_stim_labels = np.delete(stim_labels, i, 0)\n",
    "        train_y = np.delete(y, i, 0)\n",
    "\n",
    "        shp = train_epochs.shape\n",
    "#         print(epochs.shape)\n",
    "#         print(shp)\n",
    "        print(test_epoch.shape)\n",
    "        \n",
    "        train_y = train_y.flatten()\n",
    "        train_x = train_epochs.reshape(shp[0] * shp[1], shp[2], shp[3])\n",
    "        train_x = train_x[:,:,channel]\n",
    "        \n",
    "        LDA_clf = LinearDiscriminantAnalysis(solver='lsqr', shrinkage='auto')\n",
    "        LDA_clf = train_clf(LDA_clf, train_x, train_y)\n",
    "        \n",
    "#         print(LDA_clf.classes_)\n",
    "        confidence = LDA_clf.predict_proba(test_epoch)\n",
    "#         print(confidence[:12])\n",
    "#         print(test_stim_labels[:12])\n",
    "        conf_avg = []\n",
    "        for i in range(len(ltr_key)*2):\n",
    "            avg = np.mean(confidence[test_stim_labels == i, 1])\n",
    "            conf_avg.append(avg)\n",
    "            \n",
    "        print(conf_avg)\n",
    "            \n",
    "        conf_avg_rows = conf_avg[:len(ltr_key)]\n",
    "        conf_avg_cols = conf_avg[len(ltr_key):]\n",
    "        \n",
    "        max_row = np.argmax(conf_avg_rows)\n",
    "        max_col = np.argmax(conf_avg_cols)\n",
    "        print(f'-- Run: {i}, Results --')\n",
    "        print(f'row choice: {max_row}, column choice: {max_col}')\n",
    "        result = ltr_key[max_row][max_col]\n",
    "        print(result == target_ltr)\n",
    "        print(result, target_ltr)"
   ]
  },
  {
   "cell_type": "code",
   "execution_count": 104,
   "metadata": {},
   "outputs": [
    {
     "name": "stdout",
     "output_type": "stream",
     "text": [
      "(120, 226)\n",
      "[0.22024708239948415, 0.17767427496910768, 0.19109244992451835, 0.16430531657887498, 0.1996104355552409, 0.18723180005318413, 0.16711234026947352, 0.16814707134784368, 0.15668079449088773, 0.1266355791785255, 0.19655895147390945, 0.14441570314890306]\n",
      "-- Run: 11, Results --\n",
      "row choice: 0, column choice: 4\n",
      "False\n",
      "E P\n",
      "(120, 226)\n",
      "[0.15491538149501644, 0.1630453304943814, 0.14908555345712543, 0.13025970034070788, 0.19191230362206257, 0.14178736170549647, 0.13892997381813899, 0.14999768028909163, 0.14460647918497296, 0.11701318552426745, 0.1272094609360811, 0.14074585871600695]\n",
      "-- Run: 11, Results --\n",
      "row choice: 4, column choice: 1\n",
      "False\n",
      "Z 3\n",
      "(120, 226)\n",
      "[0.15082552733706284, 0.16274563569770942, 0.1675944938015306, 0.13100736681063724, 0.17081977630046447, 0.16296762212433974, 0.21165078010307364, 0.14612698352262596, 0.12766058863266172, 0.1726026677036822, 0.15743797512348734, 0.19579373637788974]\n",
      "-- Run: 11, Results --\n",
      "row choice: 4, column choice: 0\n",
      "False\n",
      "Y E\n",
      "(120, 226)\n",
      "[0.13246118958154604, 0.17761460653565714, 0.18975303174604413, 0.22327247666018507, 0.17820620638687845, 0.14619440899036842, 0.17927785315796047, 0.29852233434212916, 0.17907862373753108, 0.18901877246120108, 0.14997688028976003, 0.24418564425391054]\n",
      "-- Run: 11, Results --\n",
      "row choice: 3, column choice: 1\n",
      "False\n",
      "T E\n",
      "(120, 226)\n",
      "[0.1773783192277478, 0.08665746490112455, 0.15162638951016505, 0.20744263328437698, 0.11766635992495922, 0.16551198012371526, 0.16390147437551003, 0.1516441211626859, 0.19829335290294456, 0.11986003917974357, 0.17273814999580644, 0.15489401264798497]\n",
      "-- Run: 11, Results --\n",
      "row choice: 3, column choice: 2\n",
      "False\n",
      "U G\n"
     ]
    }
   ],
   "source": [
    "# r2_target_ltr, r2_stim_markers, r2_y, r2_epochs\n",
    "# dims: (5)    , (5,120)       , (5,120), (600,226,7)\n",
    "# we need the epochs to match the 5x120 instead of 600\n",
    "# so reshape(5,120,266,7) \n",
    "shp = r2_stim_markers.shape + r2_epochs.shape[1:]\n",
    "r2_epochs_by_target = np.reshape(r2_epochs, shp)\n",
    "\n",
    "test_LDA_prediction(r2_target_ltr, r2_stim_markers, r2_epochs_by_target, r2_y, pz)\n",
    "# print(ltr_key[0][0])"
   ]
  },
  {
   "cell_type": "code",
   "execution_count": null,
   "metadata": {},
   "outputs": [],
   "source": [
    "\n",
    "chars = [chr(x) for x in range(65,91)]\n",
    "numbers = list(range(1,10))\n",
    "space = ['_']\n",
    "\n",
    "# TODO: clean this up, breaks if there isn't a perfect square root of full_list\n",
    "full_list = chars + numbers + space\n",
    "dim = math.ceil(len(full_list)**0.5)\n",
    "character_grid = np.reshape(full_list, (dim, dim))\n",
    "character_grid[0]"
   ]
  },
  {
   "cell_type": "code",
   "execution_count": 41,
   "metadata": {},
   "outputs": [
    {
     "name": "stdout",
     "output_type": "stream",
     "text": [
      "(3, 2, 4)\n",
      "[[[ 3  4  4  1]\n",
      "  [ 5  6  3  2]]\n",
      "\n",
      " [[ 7  8  5  2]\n",
      "  [ 9 10  3  5]]\n",
      "\n",
      " [[11 12  2  6]\n",
      "  [13 14  7  1]]]\n",
      "[[ 3  4  4  1]\n",
      " [ 5  6  3  2]\n",
      " [ 7  8  5  2]\n",
      " [ 9 10  3  5]\n",
      " [11 12  2  6]\n",
      " [13 14  7  1]]\n"
     ]
    },
    {
     "data": {
      "text/plain": [
       "array([[[ 3,  4,  4,  1],\n",
       "        [ 5,  6,  3,  2]],\n",
       "\n",
       "       [[ 7,  8,  5,  2],\n",
       "        [ 9, 10,  3,  5]],\n",
       "\n",
       "       [[11, 12,  2,  6],\n",
       "        [13, 14,  7,  1]]])"
      ]
     },
     "execution_count": 41,
     "metadata": {},
     "output_type": "execute_result"
    }
   ],
   "source": [
    "t = np.array([[[3,4,4,1],[5,6,3,2]],[[7,8,5,2],[9,10,3,5]],[[11,12,2,6],[13,14,7,1]]])\n",
    "print(t.shape)\n",
    "print(t)\n",
    "f = t.reshape(6,4)\n",
    "print(f)\n",
    "f = f.reshape(t.shape)\n",
    "f"
   ]
  },
  {
   "cell_type": "code",
   "execution_count": null,
   "metadata": {},
   "outputs": [],
   "source": []
  }
 ],
 "metadata": {
  "kernelspec": {
   "display_name": "Python 3",
   "language": "python",
   "name": "python3"
  },
  "language_info": {
   "codemirror_mode": {
    "name": "ipython",
    "version": 3
   },
   "file_extension": ".py",
   "mimetype": "text/x-python",
   "name": "python",
   "nbconvert_exporter": "python",
   "pygments_lexer": "ipython3",
   "version": "3.8.5"
  }
 },
 "nbformat": 4,
 "nbformat_minor": 4
}
